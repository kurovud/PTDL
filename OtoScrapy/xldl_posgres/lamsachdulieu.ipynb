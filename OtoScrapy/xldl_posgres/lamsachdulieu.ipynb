{
 "cells": [
  {
   "cell_type": "code",
   "execution_count": 1,
   "metadata": {},
   "outputs": [],
   "source": [
    "import pandas as pd\n",
    "import psycopg2\n",
    "from pymongo import MongoClient\n",
    "import re"
   ]
  },
  {
   "cell_type": "code",
   "execution_count": 2,
   "metadata": {},
   "outputs": [
    {
     "name": "stdout",
     "output_type": "stream",
     "text": [
      "                           _id  \\\n",
      "0     67089fd5b7859ab055a9189c   \n",
      "1     67089fd5b7859ab055a9189d   \n",
      "2     67089fd5b7859ab055a9189e   \n",
      "3     67089fd5b7859ab055a9189f   \n",
      "4     67089fd5b7859ab055a918a0   \n",
      "...                        ...   \n",
      "3055  6708cc4a0ff0c9ca3bb3eb2a   \n",
      "3056  6708cc4a0ff0c9ca3bb3eb2b   \n",
      "3057  6708cc4a0ff0c9ca3bb3eb2c   \n",
      "3058  6708cc4a0ff0c9ca3bb3eb2d   \n",
      "3059  6708cc4a0ff0c9ca3bb3eb2e   \n",
      "\n",
      "                                         phonenumber  \\\n",
      "0     [ Liên hệ: , ĐT: 0339 048 140 - 0929 488 866 ]   \n",
      "1                    [ Liên hệ: , ĐT: 0978 290 660 ]   \n",
      "2                    [ Liên hệ: , ĐT: 0978 290 660 ]   \n",
      "3                    [ Liên hệ: , ĐT: 0965 551 528 ]   \n",
      "4                    [ Liên hệ: , ĐT: 0976 226 898 ]   \n",
      "...                                              ...   \n",
      "3055  [ Liên hệ: , ĐT: 0938 297 777 - 0916 868 692 ]   \n",
      "3056                 [ Liên hệ: , ĐT: 0974 677 999 ]   \n",
      "3057  [ Liên hệ: , ĐT: 0982 020 191 - 0973 533 366 ]   \n",
      "3058                 [ Liên hệ: , ĐT: 0987 439 968 ]   \n",
      "3059                 [ Liên hệ: , ĐT: 0797 968 422 ]   \n",
      "\n",
      "                          sellername  \\\n",
      "0                          [Mr Phúc]   \n",
      "1                       [Master Car]   \n",
      "2                       [Master Car]   \n",
      "3                          [Xế Auto]   \n",
      "4                          [Mr Việt]   \n",
      "...                              ...   \n",
      "3055                     [Hoàng Lân]   \n",
      "3056                   [Độ Vân Auto]   \n",
      "3057               [Gia Nguyên Auto]   \n",
      "3058            [Auto Huy Tùng 668]   \n",
      "3059  [Thế Giới Xe Đức - CN Sài ...]   \n",
      "\n",
      "                                                address          status  \\\n",
      "0          [ Hạ Yên Quyết - Yên Hoà - Cầu Giấy Hà Nội ]  [ Xe cũ,  ,  ]   \n",
      "1     [ 393A Nguyễn Xiển, Thanh Xuân (đối diện trụ c...  [ Xe cũ,  ,  ]   \n",
      "2     [ 393A Nguyễn Xiển, Thanh Xuân (đối diện trụ c...  [ Xe cũ,  ,  ]   \n",
      "3                  [ 86 Vũ Đức Thận, Long Biên Hà Nội ]  [ Xe cũ,  ,  ]   \n",
      "4                          [ 138 Phạm Văn Đồng Hà Nội ]  [ Xe cũ,  ,  ]   \n",
      "...                                                 ...             ...   \n",
      "3055             [ Khuất Duy Tiến - Thanh Xuân Hà Nội ]  [ Xe cũ,  ,  ]   \n",
      "3056  [ 321 Phạm Văn Đồng, Xuân Đỉnh, Quận Bắc Từ Li...  [ Xe cũ,  ,  ]   \n",
      "3057            [ 116 Nguyễn Văn Cừ, Long Biên Hà Nội ]  [ Xe cũ,  ,  ]   \n",
      "3058                  [ Quốc lộ 37 Nam Sách Hải Dương ]  [ Xe cũ,  ,  ]   \n",
      "3059  [ Số 25 đường số 16 Phú Mỹ Hưng, Midtown TP HCM ]  [ Xe cũ,  ,  ]   \n",
      "\n",
      "        year           code                                          carname  \\\n",
      "0     [2022]  [Mã: 5857470]      [Hyundai SantaFe Cao cấp 2.2L HTRAC - 2022]   \n",
      "1     [2020]  [Mã: 5780399]              [Kia Sedona 3.3 GAT Premium - 2020]   \n",
      "2     [2020]  [Mã: 5743931]           [Ford EcoSport Titanium 1.5 AT - 2020]   \n",
      "3     [2017]  [Mã: 5869427]                    [Suzuki Ertiga 1.4 AT - 2017]   \n",
      "4     [2017]  [Mã: 5837022]             [Nissan Navara EL 2.5 AT 2WD - 2017]   \n",
      "...      ...            ...                                              ...   \n",
      "3055  [2022]  [Mã: 5784321]            [Mercedes Benz GLC 300 4Matic - 2022]   \n",
      "3056  [2023]  [Mã: 5813409]  [Hyundai Palisade Prestige 2.2 AT HTRAC - 2023]   \n",
      "3057  [2015]  [Mã: 5791797]                        [Honda CRV 2.0 AT - 2015]   \n",
      "3058  [2005]  [Mã: 5854869]                  [Ford Laser GHIA 1.8 MT - 2005]   \n",
      "3059  [2022]  [Mã: 5721630]          [Mercedes Benz E class E300 AMG - 2022]   \n",
      "\n",
      "                 price         city  \\\n",
      "0     [1 Tỷ 158 Triệu]     [Hà Nội]   \n",
      "1          [790 Triệu]     [Hà Nội]   \n",
      "2          [480 Triệu]     [Hà Nội]   \n",
      "3          [335 Triệu]     [Hà Nội]   \n",
      "4          [410 Triệu]     [Hà Nội]   \n",
      "...                ...          ...   \n",
      "3055  [1 Tỷ 999 Triệu]     [Hà Nội]   \n",
      "3056  [1 Tỷ 485 Triệu]     [Hà Nội]   \n",
      "3057       [530 Triệu]     [Hà Nội]   \n",
      "3058       [105 Triệu]  [Hải Dương]   \n",
      "3059  [2 Tỷ 399 Triệu]     [TP HCM]   \n",
      "\n",
      "                                              parameter  \\\n",
      "0     [ *Xe lắp ráp trong nước, màu trắng, máy dầu 2...   \n",
      "1     [ *Xe lắp ráp trong nước, màu đen, máy xăng 3....   \n",
      "2     [ *Xe lắp ráp trong nước, màu đỏ, máy xăng 1.5...   \n",
      "3     [ *Xe nhập khẩu, màu xám, máy xăng 1.4 L, số t...   \n",
      "4     [ *Xe nhập khẩu, màu trắng, máy dầu 2.5 L, số ...   \n",
      "...                                                 ...   \n",
      "3055  [ *Xe lắp ráp trong nước, màu đen, máy xăng 2....   \n",
      "3056  [ *Xe lắp ráp trong nước, màu trắng, máy dầu 2...   \n",
      "3057  [ *Xe lắp ráp trong nước, màu trắng, máy xăng ...   \n",
      "3058  [ *Xe lắp ráp trong nước, màu đen, máy xăng 1....   \n",
      "3059  [ *Xe lắp ráp trong nước, màu đen, máy xăng 2....   \n",
      "\n",
      "                                                content  \n",
      "0     [[ Mới về chào bán ngay\\nNhập Team nguyên xe M...  \n",
      "1     [[ Sedona GATH 3.3l sản xuất 2020\\nXe một chủ ...  \n",
      "2     [[ Ford EcoSport Titanium 1.5 - 2020 một chủ 3...  \n",
      "3     [[ SUZUKI ERTIGA 1.4 AT 2017\\n* 1 CHỦ TỪ MỚI C...  \n",
      "4     [[ Navara EL 2017 chạy 80.000km\\n✓Bao không n...  \n",
      "...                                                 ...  \n",
      "3055  [[ Xe mới về ạ\\nGLC300 AMG sx 2022 chạy 26.000...  \n",
      "3056  [[ Xe đi 6 ngàn km nên như mới ae nhé!\\n✓Huynd...  \n",
      "3057  [[ HONDA CRV 2.0AT sx 2015 1 chủ từ đầu, biển ...  \n",
      "3058  [[ Xe đẹp chủ đi rất giữ dìn\\nChủ là lãnh đạo ...  \n",
      "3059  [[ Mercedes_E300AMG\\n- Sản xuất : 2022 bản V1\\...  \n",
      "\n",
      "[3060 rows x 12 columns]\n"
     ]
    }
   ],
   "source": [
    "# Kết nối đến MongoDB\n",
    "client = MongoClient('mongodb://localhost:27017/')\n",
    "db = client['oto_db']\n",
    "collection = db['oto_collection']\n",
    "\n",
    "# Truy vấn dữ liệu từ MongoDB\n",
    "data = list(collection.find())  # Chuyển đổi dữ liệu từ MongoDB sang list of dictionaries\n",
    "df = pd.DataFrame(data) \n",
    "print(df)"
   ]
  },
  {
   "cell_type": "code",
   "execution_count": 22,
   "metadata": {},
   "outputs": [
    {
     "data": {
      "text/plain": [
       "0       0339048140-0929488866\n",
       "1                  0978290660\n",
       "2                  0978290660\n",
       "3                  0965551528\n",
       "4                  0976226898\n",
       "                ...          \n",
       "3055    0938297777-0916868692\n",
       "3056               0974677999\n",
       "3057    0982020191-0973533366\n",
       "3058               0987439968\n",
       "3059               0797968422\n",
       "Name: phonenumber, Length: 3060, dtype: object"
      ]
     },
     "execution_count": 22,
     "metadata": {},
     "output_type": "execute_result"
    }
   ],
   "source": [
    "# Hàm xử lý số điện thoại\n",
    "def xuli_phonenumber(phonenumber):\n",
    "    if isinstance(phonenumber, list):  # Kiểm tra xem phonenumber có phải là list không\n",
    "        # Kết hợp các phần tử thành một chuỗi\n",
    "        phonenumber = ' '.join(phonenumber)\n",
    "    \n",
    "    if isinstance(phonenumber, str):  # Nếu là chuỗi, xử lý\n",
    "        cleaned_phonenumber = re.sub(r'[^0-9-]', '', phonenumber)  # Giữ lại số và dấu '-'\n",
    "        cleaned_phonenumber = re.sub(r'-+', '-', cleaned_phonenumber)  # Xóa các dấu '-' liên tiếp\n",
    "        return cleaned_phonenumber.strip('-')  # Xóa '-' đầu và cuối nếu có\n",
    "    else:\n",
    "        return None  # Trả về None cho các loại khác\n",
    "# Áp dụng hàm xử lý cho cột 'phonenumber'\n",
    "df['phonenumber'] = df['phonenumber'].apply(xuli_phonenumber)\n",
    "df['phonenumber']\n"
   ]
  },
  {
   "cell_type": "code",
   "execution_count": 4,
   "metadata": {},
   "outputs": [
    {
     "data": {
      "text/plain": [
       "0       5857470\n",
       "1       5780399\n",
       "2       5743931\n",
       "3       5869427\n",
       "4       5837022\n",
       "         ...   \n",
       "3055    5784321\n",
       "3056    5813409\n",
       "3057    5791797\n",
       "3058    5854869\n",
       "3059    5721630\n",
       "Name: code, Length: 3060, dtype: object"
      ]
     },
     "execution_count": 4,
     "metadata": {},
     "output_type": "execute_result"
    }
   ],
   "source": [
    "# Hàm xử lý mã số xe\n",
    "def xuli_code(code):\n",
    "    if isinstance(code, list):  # Kiểm tra xem code có phải là list không\n",
    "        # Kết hợp các phần tử thành một chuỗi\n",
    "        code = ' '.join(code)\n",
    "    \n",
    "    if isinstance(code, str):  # Nếu là chuỗi, xử lý\n",
    "        cleaned_code = re.sub(r'[^\\d]', '', code)  # Giữ lại chỉ các ký tự số\n",
    "        return cleaned_code\n",
    "    else:\n",
    "        return None  # Trả về None cho các loại khác\n",
    "\n",
    "# Áp dụng hàm xử lý cho cột 'code'\n",
    "df['code'] = df['code'].apply(xuli_code)\n",
    "df['code']"
   ]
  },
  {
   "cell_type": "code",
   "execution_count": 5,
   "metadata": {},
   "outputs": [
    {
     "data": {
      "text/plain": [
       "0       Xe cũ\n",
       "1       Xe cũ\n",
       "2       Xe cũ\n",
       "3       Xe cũ\n",
       "4       Xe cũ\n",
       "        ...  \n",
       "3055    Xe cũ\n",
       "3056    Xe cũ\n",
       "3057    Xe cũ\n",
       "3058    Xe cũ\n",
       "3059    Xe cũ\n",
       "Name: status, Length: 3060, dtype: object"
      ]
     },
     "execution_count": 5,
     "metadata": {},
     "output_type": "execute_result"
    }
   ],
   "source": [
    "# Hàm xử lý trạng thái xe\n",
    "def xuli_status(status):\n",
    "    if isinstance(status, list):  # Kiểm tra xem status có phải là list không\n",
    "        # Kết hợp các phần tử thành một chuỗi\n",
    "        status = ' '.join(status)\n",
    "    \n",
    "    if isinstance(status, str):  # Nếu là chuỗi, xử lý\n",
    "        # Giữ lại tất cả các ký tự chữ cái và dấu, bao gồm cả các ký tự đặc biệt trong tiếng Việt\n",
    "        cleaned_status = re.sub(r'[^0-9a-zA-ZÀ-ỹ\\s]', '', status)  # Giữ lại số, chữ (có dấu) và khoảng trắng\n",
    "        return cleaned_status.strip()  # Xóa khoảng trắng đầu và cuối\n",
    "    else:\n",
    "        return None  # Trả về None cho các loại khác\n",
    "\n",
    "# Áp dụng hàm xử lý cho cột 'status'\n",
    "df['status'] = df['status'].apply(xuli_status)\n",
    "df['status'] "
   ]
  },
  {
   "cell_type": "code",
   "execution_count": 10,
   "metadata": {},
   "outputs": [
    {
     "data": {
      "text/plain": [
       "0       0 triệu\n",
       "1       0 triệu\n",
       "2       0 triệu\n",
       "3       0 triệu\n",
       "4       0 triệu\n",
       "         ...   \n",
       "3055    0 triệu\n",
       "3056    0 triệu\n",
       "3057    0 triệu\n",
       "3058    0 triệu\n",
       "3059    0 triệu\n",
       "Name: price, Length: 3060, dtype: object"
      ]
     },
     "execution_count": 10,
     "metadata": {},
     "output_type": "execute_result"
    }
   ],
   "source": [
    "import re  # Đảm bảo import thư viện re để sử dụng regex\n",
    "\n",
    "# Hàm xử lý giá\n",
    "def xuli_price(data):\n",
    "    if isinstance(data, list):  # Kiểm tra xem data có phải là list không\n",
    "        # Kết hợp các phần tử thành một chuỗi\n",
    "        data = ' '.join(data)\n",
    "        \n",
    "    if isinstance(data, str):  # Nếu là chuỗi, xử lý\n",
    "        # Giữ lại tất cả các ký tự chữ cái và số, bao gồm cả các ký tự đặc biệt\n",
    "        cleaned_data = re.sub(r'[^0-9a-zA-Zà-ỹ\\s]', '', data)  # Giữ lại số, chữ (có dấu) và khoảng trắng\n",
    "        components = cleaned_data.split()  # Tách chuỗi thành các thành phần\n",
    "        total_value = 0  # Khởi tạo biến tổng giá trị\n",
    "        \n",
    "        try:\n",
    "            # Kiểm tra và cộng giá trị Tỷ\n",
    "            if 'tỷ' in components:\n",
    "                ty_index = components.index('tỷ') - 1\n",
    "                if ty_index >= 0 and components[ty_index].isdigit():  # Kiểm tra có giá trị hợp lệ\n",
    "                    ty_value = int(components[ty_index]) * 1000\n",
    "                    total_value += ty_value  # Cộng vào tổng\n",
    "\n",
    "            # Kiểm tra và cộng giá trị Triệu\n",
    "            if 'triệu' in components:\n",
    "                trieu_index = components.index('triệu') - 1\n",
    "                if trieu_index >= 0 and components[trieu_index].isdigit():  # Kiểm tra có giá trị hợp lệ\n",
    "                    trieu_value = int(components[trieu_index])\n",
    "                    total_value += trieu_value  # Cộng vào tổng\n",
    "\n",
    "            return f\"{total_value} triệu\" if total_value > 0 else \"0 triệu\"  # Trả về tổng giá trị\n",
    "        except (IndexError, ValueError):\n",
    "            return \"0 triệu\"  # Giá trị mặc định nếu có lỗi\n",
    "    else:\n",
    "        return \"0 triệu\"  # Nếu data không phải chuỗi, trả về giá trị mặc định\n",
    "\n",
    "# Áp dụng hàm xử lý cho cột 'price'\n",
    "df['price'] = df['price'].apply(xuli_price)\n",
    "df['price']\n"
   ]
  },
  {
   "cell_type": "code",
   "execution_count": 11,
   "metadata": {},
   "outputs": [
    {
     "data": {
      "text/plain": [
       "0                    Hạ Yên Quyết Yên Hoà Cầu Giấy Hà Nội\n",
       "1       393A Nguyễn Xiển Thanh Xuân đối diện trụ cầu V...\n",
       "2       393A Nguyễn Xiển Thanh Xuân đối diện trụ cầu V...\n",
       "3                         86 Vũ Đức Thận Long Biên Hà Nội\n",
       "4                                138 Phạm Văn Đồng Hà Nội\n",
       "                              ...                        \n",
       "3055                     Khuất Duy Tiến Thanh Xuân Hà Nội\n",
       "3056    321 Phạm Văn Đồng Xuân Đỉnh Quận Bắc Từ Liêm H...\n",
       "3057                   116 Nguyễn Văn Cừ Long Biên Hà Nội\n",
       "3058                        Quốc lộ 37 Nam Sách Hải Dương\n",
       "3059         Số 25 đường số 16 Phú Mỹ Hưng Midtown TP HCM\n",
       "Name: address, Length: 3060, dtype: object"
      ]
     },
     "execution_count": 11,
     "metadata": {},
     "output_type": "execute_result"
    }
   ],
   "source": [
    "# Hàm làm sạch địa chỉ\n",
    "def clean_address(address):\n",
    "    if isinstance(address, list):  # Kiểm tra xem address có phải là list không\n",
    "        # Kết hợp các phần tử thành một chuỗi\n",
    "        address = ' '.join(address)\n",
    "\n",
    "    if isinstance(address, str):  # Nếu là chuỗi, xử lý\n",
    "        # Xóa ký tự đặc biệt và dấu ngoặc\n",
    "        cleaned_address = re.sub(r'[^\\w\\s]', '', address)  # Xóa dấu ngoặc và ký tự đặc biệt\n",
    "        cleaned_address = cleaned_address.replace(\"*\", \"\")  # Xóa dấu *\n",
    "        cleaned_address = ' '.join(cleaned_address.split())  # Xóa khoảng trắng thừa\n",
    "        return cleaned_address.strip()  # Xóa khoảng trắng đầu và cuối\n",
    "    else:\n",
    "        return None  # Trả về None cho các loại khác\n",
    "\n",
    "# Áp dụng hàm làm sạch cho cột 'address'\n",
    "df['address'] = df['address'].astype('str').apply(clean_address)\n",
    "df['address']"
   ]
  },
  {
   "cell_type": "code",
   "execution_count": 12,
   "metadata": {},
   "outputs": [
    {
     "data": {
      "text/plain": [
       "0       Mới về chào bán ngaynNhập Team nguyên xe Mộc H...\n",
       "1       Sedona GATH 33l sản xuất 2020nXe một chủ duy n...\n",
       "2       Ford EcoSport Titanium 15 2020 một chủ 3vkm lố...\n",
       "3       SUZUKI ERTIGA 14 AT 2017n 1 CHỦ TỪ MỚI CHẠY 10...\n",
       "4       Navara EL 2017 chạy 80000kmnBao khong ngap nuo...\n",
       "                              ...                        \n",
       "3055    Xe mới về ạnGLC300 AMG sx 2022 chạy 26000km zi...\n",
       "3056    Xe đi 6 ngàn km nên như mới ae nhénHuyndai PLI...\n",
       "3057    HONDA CRV 20AT sx 2015 1 chủ từ đầu biển hà nộ...\n",
       "3058    Xe đẹp chủ đi rất giữ dìnnChủ là lãnh đạo bí t...\n",
       "3059    Mercedes_E300AMGn Sản xuất 2022 bản V1n Đăng k...\n",
       "Name: content, Length: 3060, dtype: object"
      ]
     },
     "execution_count": 12,
     "metadata": {},
     "output_type": "execute_result"
    }
   ],
   "source": [
    "# Hàm làm sạch nội dung\n",
    "def clean_content(content):\n",
    "    if isinstance(content, list):  # Kiểm tra xem content có phải là list không\n",
    "        # Kết hợp các phần tử thành một chuỗi\n",
    "        content = ' '.join(content)\n",
    "\n",
    "    if isinstance(content, str):  # Nếu là chuỗi, xử lý\n",
    "        # Xóa ký tự đặc biệt và dấu ngoặc\n",
    "        cleaned_content = re.sub(r'[^\\w\\s]', '', content)  # Xóa dấu ngoặc và ký tự đặc biệt\n",
    "        cleaned_content = cleaned_content.replace(\"*\", \"\")  # Xóa dấu *\n",
    "        cleaned_content = ' '.join(cleaned_content.split())  # Xóa khoảng trắng thừa\n",
    "        return cleaned_content.strip()  # Xóa khoảng trắng đầu và cuối\n",
    "    else:\n",
    "        return None  # Trả về None cho các loại khác\n",
    "\n",
    "# Áp dụng hàm làm sạch cho cột 'content'\n",
    "df['content'] = df['content'].astype('str').apply(clean_content)\n",
    "df['content']"
   ]
  },
  {
   "cell_type": "code",
   "execution_count": 13,
   "metadata": {},
   "outputs": [
    {
     "data": {
      "text/plain": [
       "0       Xe lắp ráp trong nước màu trắng máy dầu 22 L s...\n",
       "1       Xe lắp ráp trong nước màu đen máy xăng 33 L số...\n",
       "2       Xe lắp ráp trong nước màu đỏ máy xăng 15 L số ...\n",
       "3       Xe nhập khẩu màu xám máy xăng 14 L số tự động ...\n",
       "4       Xe nhập khẩu màu trắng máy dầu 25 L số tự động...\n",
       "                              ...                        \n",
       "3055    Xe lắp ráp trong nước màu đen máy xăng 20 L số...\n",
       "3056    Xe lắp ráp trong nước màu trắng máy dầu 22 L s...\n",
       "3057    Xe lắp ráp trong nước màu trắng máy xăng 20 L ...\n",
       "3058    Xe lắp ráp trong nước màu đen máy xăng 18 L số...\n",
       "3059    Xe lắp ráp trong nước màu đen máy xăng 20 L số...\n",
       "Name: parameter, Length: 3060, dtype: object"
      ]
     },
     "execution_count": 13,
     "metadata": {},
     "output_type": "execute_result"
    }
   ],
   "source": [
    "# Hàm làm sạch thông số\n",
    "def clean_parameter(parameter):\n",
    "    if isinstance(parameter, list):  # Kiểm tra xem parameter có phải là list không\n",
    "        # Kết hợp các phần tử thành một chuỗi\n",
    "        parameter = ' '.join(parameter)\n",
    "\n",
    "    if isinstance(parameter, str):  # Nếu là chuỗi, xử lý\n",
    "        # Xóa ký tự đặc biệt và dấu ngoặc\n",
    "        cleaned_parameter = re.sub(r'[^\\w\\s]', '', parameter)  # Xóa dấu ngoặc và ký tự đặc biệt\n",
    "        cleaned_parameter = cleaned_parameter.replace(\"*\", \"\")  # Xóa dấu *\n",
    "        cleaned_parameter = ' '.join(cleaned_parameter.split())  # Xóa khoảng trắng thừa\n",
    "        return cleaned_parameter.strip()  # Xóa khoảng trắng đầu và cuối\n",
    "    else:\n",
    "        return None  # Trả về None cho các loại khác\n",
    "\n",
    "# Áp dụng hàm làm sạch cho cột 'parameter'\n",
    "df['parameter'] = df['parameter'].astype('str').apply(clean_parameter)\n",
    "df['parameter']"
   ]
  },
  {
   "cell_type": "code",
   "execution_count": 18,
   "metadata": {},
   "outputs": [
    {
     "data": {
      "text/plain": [
       "0                      Mr Phúc\n",
       "1                   Master Car\n",
       "2                   Master Car\n",
       "3                      Xế Auto\n",
       "4                      Mr Việt\n",
       "                 ...          \n",
       "3055                 Hoàng Lân\n",
       "3056               Độ Vân Auto\n",
       "3057           Gia Nguyên Auto\n",
       "3058         Auto Huy Tung 668\n",
       "3059    Thế Giới Xe Đức CN Sài\n",
       "Name: sellername, Length: 3060, dtype: object"
      ]
     },
     "execution_count": 18,
     "metadata": {},
     "output_type": "execute_result"
    }
   ],
   "source": [
    "# Hàm làm sạch cho các cột\n",
    "def clean_sellername(sellername):\n",
    "    if isinstance(sellername, list):  # Kiểm tra xem sellername có phải là list không\n",
    "        # Kết hợp các phần tử thành một chuỗi\n",
    "        sellername = ' '.join(sellername)\n",
    "\n",
    "    if isinstance(sellername, str):  # Nếu là chuỗi, xử lý\n",
    "        cleaned_sellername = re.sub(r'[^\\w\\s]', '', sellername)  # Xóa dấu ngoặc và ký tự đặc biệt\n",
    "        cleaned_sellername = cleaned_sellername.replace(\"*\", \"\")  # Xóa dấu *\n",
    "        cleaned_sellername = ' '.join(cleaned_sellername.split())  # Xóa khoảng trắng thừa\n",
    "        return cleaned_sellername.strip()  # Xóa khoảng trắng đầu và cuối\n",
    "    else:\n",
    "        return None  # Trả về None cho các loại khác\n",
    "\n",
    "# Xử lý cho từng cột\n",
    "df['sellername'] = df['sellername'].astype('str').apply(clean_sellername)\n",
    "df['sellername']"
   ]
  },
  {
   "cell_type": "code",
   "execution_count": 19,
   "metadata": {},
   "outputs": [
    {
     "data": {
      "text/plain": [
       "0           Hyundai SantaFe Cao cấp 22L HTRAC 2022\n",
       "1                   Kia Sedona 33 GAT Premium 2020\n",
       "2                Ford EcoSport Titanium 15 AT 2020\n",
       "3                         Suzuki Ertiga 14 AT 2017\n",
       "4                  Nissan Navara EL 25 AT 2WD 2017\n",
       "                           ...                    \n",
       "3055             Mercedes Benz GLC 300 4Matic 2022\n",
       "3056    Hyundai Palisade Prestige 22 AT HTRAC 2023\n",
       "3057                          Honda CRV 20 AT 2015\n",
       "3058                    Ford Laser GHIA 18 MT 2005\n",
       "3059           Mercedes Benz E class E300 AMG 2022\n",
       "Name: carname, Length: 3060, dtype: object"
      ]
     },
     "execution_count": 19,
     "metadata": {},
     "output_type": "execute_result"
    }
   ],
   "source": [
    "# Hàm làm sạch cho các cột\n",
    "def clean_carname(carname):\n",
    "    if isinstance(carname, list):  # Kiểm tra xem carname có phải là list không\n",
    "        # Kết hợp các phần tử thành một chuỗi\n",
    "        carname = ' '.join(carname)\n",
    "\n",
    "    if isinstance(carname, str):  # Nếu là chuỗi, xử lý\n",
    "        cleaned_carname = re.sub(r'[^\\w\\s]', '', carname)  # Xóa dấu ngoặc và ký tự đặc biệt\n",
    "        cleaned_carname = cleaned_carname.replace(\"*\", \"\")  # Xóa dấu *\n",
    "        cleaned_carname = ' '.join(cleaned_carname.split())  # Xóa khoảng trắng thừa\n",
    "        return cleaned_carname.strip()  # Xóa khoảng trắng đầu và cuối\n",
    "    else:\n",
    "        return None  # Trả về None cho các loại khác\n",
    "\n",
    "# Xử lý cho từng cột\n",
    "df['carname'] = df['carname'].astype('str').apply(clean_carname)\n",
    "df['carname']"
   ]
  },
  {
   "cell_type": "code",
   "execution_count": 20,
   "metadata": {},
   "outputs": [
    {
     "data": {
      "text/plain": [
       "0          Hà Nội\n",
       "1          Hà Nội\n",
       "2          Hà Nội\n",
       "3          Hà Nội\n",
       "4          Hà Nội\n",
       "          ...    \n",
       "3055       Hà Nội\n",
       "3056       Hà Nội\n",
       "3057       Hà Nội\n",
       "3058    Hải Dương\n",
       "3059       TP HCM\n",
       "Name: city, Length: 3060, dtype: object"
      ]
     },
     "execution_count": 20,
     "metadata": {},
     "output_type": "execute_result"
    }
   ],
   "source": [
    "# Hàm làm sạch cho các cột\n",
    "def clean_city(city):\n",
    "    if isinstance(city, list):  # Kiểm tra xem city có phải là list không\n",
    "        # Kết hợp các phần tử thành một chuỗi\n",
    "        city = ' '.join(city)\n",
    "\n",
    "    if isinstance(city, str):  # Nếu là chuỗi, xử lý\n",
    "        cleaned_city = re.sub(r'[^\\w\\s]', '', city)  # Xóa dấu ngoặc và ký tự đặc biệt\n",
    "        cleaned_city = cleaned_city.replace(\"*\", \"\")  # Xóa dấu *\n",
    "        cleaned_city = ' '.join(cleaned_city.split())  # Xóa khoảng trắng thừa\n",
    "        return cleaned_city.strip()  # Xóa khoảng trắng đầu và cuối\n",
    "    else:\n",
    "        return None  # Trả về None cho các loại khác\n",
    "\n",
    "# Xử lý cho từng cột\n",
    "df['city'] = df['city'].astype('str').apply(clean_city)\n",
    "df['city']"
   ]
  },
  {
   "cell_type": "code",
   "execution_count": 21,
   "metadata": {},
   "outputs": [
    {
     "data": {
      "text/plain": [
       "0       67089fd5b7859ab055a9189c\n",
       "1       67089fd5b7859ab055a9189d\n",
       "2       67089fd5b7859ab055a9189e\n",
       "3       67089fd5b7859ab055a9189f\n",
       "4       67089fd5b7859ab055a918a0\n",
       "                  ...           \n",
       "3055    6708cc4a0ff0c9ca3bb3eb2a\n",
       "3056    6708cc4a0ff0c9ca3bb3eb2b\n",
       "3057    6708cc4a0ff0c9ca3bb3eb2c\n",
       "3058    6708cc4a0ff0c9ca3bb3eb2d\n",
       "3059    6708cc4a0ff0c9ca3bb3eb2e\n",
       "Name: _id, Length: 3060, dtype: object"
      ]
     },
     "execution_count": 21,
     "metadata": {},
     "output_type": "execute_result"
    }
   ],
   "source": [
    "# Hàm làm sạch cho các cột\n",
    "def clean_id(id):\n",
    "    if isinstance(id, list):  # Kiểm tra xem id có phải là list không\n",
    "        # Kết hợp các phần tử thành một chuỗi\n",
    "        id = ' '.join(id)\n",
    "\n",
    "    if isinstance(id, str):  # Nếu là chuỗi, xử lý\n",
    "        cleaned_id = re.sub(r'[^\\w\\s]', '', id)  # Xóa dấu ngoặc và ký tự đặc biệt\n",
    "        cleaned_id = cleaned_id.replace(\"*\", \"\")  # Xóa dấu *\n",
    "        cleaned_id = ' '.join(cleaned_id.split())  # Xóa khoảng trắng thừa\n",
    "        return cleaned_id.strip()  # Xóa khoảng trắng đầu và cuối\n",
    "    else:\n",
    "        return None  # Trả về None cho các loại khác\n",
    "\n",
    "# Xử lý cho từng cột\n",
    "df['_id'] = df['_id'].astype('str').apply(clean_id)\n",
    "df['_id']"
   ]
  }
 ],
 "metadata": {
  "kernelspec": {
   "display_name": "Python 3",
   "language": "python",
   "name": "python3"
  },
  "language_info": {
   "codemirror_mode": {
    "name": "ipython",
    "version": 3
   },
   "file_extension": ".py",
   "mimetype": "text/x-python",
   "name": "python",
   "nbconvert_exporter": "python",
   "pygments_lexer": "ipython3",
   "version": "3.12.0"
  }
 },
 "nbformat": 4,
 "nbformat_minor": 2
}
